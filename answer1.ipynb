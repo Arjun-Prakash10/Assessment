{
 "cells": [
  {
   "cell_type": "code",
   "execution_count": 1,
   "metadata": {},
   "outputs": [],
   "source": [
    "import pandas as pd\n",
    "import random"
   ]
  },
  {
   "cell_type": "code",
   "execution_count": 3,
   "metadata": {},
   "outputs": [
    {
     "data": {
      "text/plain": [
       "0    2020-12-24\n",
       "1    2020-03-20\n",
       "2    2020-09-01\n",
       "3    2020-02-29\n",
       "4    2020-11-25\n",
       "        ...    \n",
       "95   2020-01-07\n",
       "96   2020-12-15\n",
       "97   2020-12-09\n",
       "98   2020-11-26\n",
       "99   2020-03-28\n",
       "Length: 100, dtype: datetime64[ns]"
      ]
     },
     "execution_count": 3,
     "metadata": {},
     "output_type": "execute_result"
    }
   ],
   "source": [
    "date_range = pd.date_range(start='1/1/2020',end='1/1/2021')\n",
    "date_range_100 = pd.Series(random.choices(date_range,k=100))\n",
    "date_range_100"
   ]
  },
  {
   "cell_type": "code",
   "execution_count": 4,
   "metadata": {},
   "outputs": [
    {
     "data": {
      "text/plain": [
       "15"
      ]
     },
     "execution_count": 4,
     "metadata": {},
     "output_type": "execute_result"
    }
   ],
   "source": [
    "date_range_100.duplicated(keep='first').value_counts()[True]"
   ]
  },
  {
   "cell_type": "code",
   "execution_count": 5,
   "metadata": {},
   "outputs": [
    {
     "data": {
      "text/plain": [
       "0     2020-12-24\n",
       "1     2020-03-20\n",
       "2     2020-09-01\n",
       "3     2020-02-29\n",
       "4     2020-11-25\n",
       "         ...    \n",
       "80    2020-06-05\n",
       "81    2020-03-27\n",
       "82    2020-12-14\n",
       "83    2020-01-07\n",
       "84    2020-03-28\n",
       "Length: 85, dtype: object"
      ]
     },
     "execution_count": 5,
     "metadata": {},
     "output_type": "execute_result"
    }
   ],
   "source": [
    "date_range_100 = date_range_100.drop_duplicates(keep='first').reset_index(drop='True').astype('str')\n",
    "date_range_100"
   ]
  },
  {
   "cell_type": "code",
   "execution_count": 6,
   "metadata": {},
   "outputs": [
    {
     "data": {
      "text/plain": [
       "['2020-09-01']"
      ]
     },
     "execution_count": 6,
     "metadata": {},
     "output_type": "execute_result"
    }
   ],
   "source": [
    "filtered_values = [i[0] for i in date_range_100.str.findall('^.{5}[\"0\"][\"259\"]-[\"0\"][\"147\"].*') if len(i)>0]\n",
    "filtered_values"
   ]
  },
  {
   "cell_type": "code",
   "execution_count": 7,
   "metadata": {},
   "outputs": [
    {
     "data": {
      "text/plain": [
       "1.1764705882352942"
      ]
     },
     "execution_count": 7,
     "metadata": {},
     "output_type": "execute_result"
    }
   ],
   "source": [
    "len(filtered_values)/len(date_range_100)*100"
   ]
  }
 ],
 "metadata": {
  "kernelspec": {
   "display_name": "Python 3",
   "language": "python",
   "name": "python3"
  },
  "language_info": {
   "codemirror_mode": {
    "name": "ipython",
    "version": 3
   },
   "file_extension": ".py",
   "mimetype": "text/x-python",
   "name": "python",
   "nbconvert_exporter": "python",
   "pygments_lexer": "ipython3",
   "version": "3.8.5"
  }
 },
 "nbformat": 4,
 "nbformat_minor": 4
}
